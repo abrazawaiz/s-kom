{
  "cells": [
    {
      "cell_type": "code",
      "execution_count": 4,
      "metadata": {
        "id": "dhJpCzp7jibN"
      },
      "outputs": [],
      "source": [
        "import pandas as pd\n",
        "import numpy as np\n",
        "from sklearn.preprocessing import StandardScaler\n",
        "from sklearn.decomposition import PCA\n",
        "from sklearn.cluster import KMeans\n",
        "from sklearn.model_selection import train_test_split\n",
        "import torch\n",
        "import torch.nn as nn\n",
        "import torch.optim as optim\n",
        "from torch.utils.data import Dataset, DataLoader"
      ]
    },
    {
      "cell_type": "code",
      "execution_count": 5,
      "metadata": {
        "id": "Lb4SbYQ8k39j"
      },
      "outputs": [],
      "source": [
        "# 1. Load & merge dataset\n",
        "movies = pd.read_csv('./data/32m/movies.csv')\n",
        "ratings = pd.read_csv('./data/32m/ratings.csv')\n",
        "\n",
        "# movies = pd.read_csv('./data/movies.csv')\n",
        "# ratings = pd.read_csv('./data/ratings.csv')\n",
        "\n",
        "df = pd.merge(ratings, movies, on='movieId')\n",
        "df.drop_duplicates(inplace=True)"
      ]
    },
    {
      "cell_type": "code",
      "execution_count": 6,
      "metadata": {
        "id": "ZpWSIj2tk9pf"
      },
      "outputs": [],
      "source": [
        "# 2. Genre processing & one-hot encoding\n",
        "df['genres'] = df['genres'].str.split('|')\n",
        "all_genres = set(g for genres in df['genres'] for g in genres)\n",
        "all_genres.discard('(no genres listed)')\n",
        "for genre in all_genres:\n",
        "    df[genre] = df['genres'].apply(lambda x: 1 if genre in x else 0)\n",
        "df.drop(columns=['genres'], inplace=True)"
      ]
    },
    {
      "cell_type": "code",
      "execution_count": 7,
      "metadata": {
        "id": "dz5vxPmWk9-J"
      },
      "outputs": [],
      "source": [
        "# 3. Movie and user stats\n",
        "df['avg_rating_movie'] = df.groupby('movieId')['rating'].transform('mean')\n",
        "df['num_ratings_movie'] = df.groupby('movieId')['rating'].transform('count')\n",
        "df['avg_rating_user'] = df.groupby('userId')['rating'].transform('mean')\n",
        "df['num_ratings_user'] = df.groupby('userId')['rating'].transform('count')"
      ]
    },
    {
      "cell_type": "code",
      "execution_count": 8,
      "metadata": {
        "id": "yfMROx_Wk_9O"
      },
      "outputs": [],
      "source": [
        "# 4. Extract year from title\n",
        "df['year'] = df['title'].str.extract(r'\\((\\d{4})\\)').astype(float)\n",
        "df.dropna(subset=['year'], inplace=True)"
      ]
    },
    {
      "cell_type": "code",
      "execution_count": 9,
      "metadata": {
        "id": "FivG5p0zlBa1"
      },
      "outputs": [],
      "source": [
        "# 5. Clustering movies based on genres + stats\n",
        "features_for_clustering = list(all_genres) + ['avg_rating_movie', 'num_ratings_movie', 'year']\n",
        "movie_features = df.groupby('movieId')[features_for_clustering].first()\n",
        "scaler_clust = StandardScaler()\n",
        "X_clust = scaler_clust.fit_transform(movie_features)\n",
        "# Optimal cluster number with elbow or silhouette score can be automated, here fixed at 8\n",
        "kmeans = KMeans(n_clusters=8, random_state=42)\n",
        "movie_features['cluster'] = kmeans.fit_predict(X_clust)\n",
        "movie_cluster_map = movie_features['cluster'].to_dict()\n",
        "df['movie_cluster'] = df['movieId'].map(movie_cluster_map)"
      ]
    },
    {
      "cell_type": "code",
      "execution_count": null,
      "metadata": {
        "id": "DFyyhzq0lCuB"
      },
      "outputs": [],
      "source": [
        "# 6. Encode categorical variables\n",
        "user2idx = {u: i for i, u in enumerate(df['userId'].unique())}\n",
        "movie2idx = {m: i for i, m in enumerate(df['movieId'].unique())}\n",
        "cluster2idx = {c: i for i, c in enumerate(df['movie_cluster'].unique())}\n",
        "df['user_idx'] = df['userId'].map(user2idx)\n",
        "df['movie_idx'] = df['movieId'].map(movie2idx)\n",
        "df['cluster_idx'] = df['movie_cluster'].map(cluster2idx)"
      ]
    },
    {
      "cell_type": "code",
      "execution_count": 11,
      "metadata": {
        "id": "WCLCzXIslF3G"
      },
      "outputs": [],
      "source": [
        "# 7. Normalize continuous features\n",
        "scaler_feat = StandardScaler()\n",
        "continuous_feats = ['avg_rating_movie', 'num_ratings_movie', 'year', 'avg_rating_user', 'num_ratings_user']\n",
        "df[continuous_feats] = scaler_feat.fit_transform(df[continuous_feats])"
      ]
    },
    {
      "cell_type": "code",
      "execution_count": 12,
      "metadata": {
        "id": "i-DfWaNnlHIq"
      },
      "outputs": [],
      "source": [
        "# 8. Split train-test\n",
        "train_df, test_df = train_test_split(df, test_size=0.2, random_state=42, stratify=df['user_idx'])"
      ]
    },
    {
      "cell_type": "code",
      "execution_count": 23,
      "metadata": {
        "id": "7TpQrsB-lItw"
      },
      "outputs": [],
      "source": [
        "# 9. Dataset class\n",
        "class MovieDataset(Dataset):\n",
        "    def __init__(self, df):\n",
        "        self.users = torch.tensor(df['user_idx'].values, dtype=torch.long)\n",
        "        self.movies = torch.tensor(df['movie_idx'].values, dtype=torch.long)\n",
        "        self.clusters = torch.tensor(df['cluster_idx'].values, dtype=torch.long)\n",
        "        self.features = torch.tensor(df[continuous_feats].values, dtype=torch.float32)\n",
        "        self.ratings = torch.tensor(df['rating'].values, dtype=torch.float32)\n",
        "\n",
        "    def __len__(self):\n",
        "        return len(self.ratings)\n",
        "\n",
        "    def __getitem__(self, idx):\n",
        "        return (self.users[idx], self.movies[idx], self.clusters[idx], self.features[idx]), self.ratings[idx]\n",
        "\n",
        "train_dataset = MovieDataset(train_df)\n",
        "test_dataset = MovieDataset(test_df)\n",
        "train_loader = DataLoader(train_dataset, batch_size=512, shuffle=True, num_workers=0)\n",
        "test_loader = DataLoader(test_dataset, batch_size=512, shuffle=False, num_workers=0)"
      ]
    },
    {
      "cell_type": "code",
      "execution_count": 24,
      "metadata": {
        "id": "5J9HA5ywlLrR"
      },
      "outputs": [],
      "source": [
        "# 10. Neural Collaborative Filtering Model with tuning\n",
        "class NCF(nn.Module):\n",
        "    def __init__(self, n_users, n_movies, n_clusters, emb_size=64):\n",
        "        super().__init__()\n",
        "        self.user_emb = nn.Embedding(n_users, emb_size)\n",
        "        self.movie_emb = nn.Embedding(n_movies, emb_size)\n",
        "        self.cluster_emb = nn.Embedding(n_clusters, emb_size)\n",
        "\n",
        "        self.fc_layers = nn.Sequential(\n",
        "            nn.Linear(emb_size*3 + len(continuous_feats), 256),\n",
        "            nn.BatchNorm1d(256),\n",
        "            nn.LeakyReLU(0.1),\n",
        "            nn.Dropout(0.3),\n",
        "\n",
        "            nn.Linear(256, 128),\n",
        "            nn.BatchNorm1d(128),\n",
        "            nn.LeakyReLU(0.1),\n",
        "            nn.Dropout(0.3),\n",
        "\n",
        "            nn.Linear(128, 64),\n",
        "            nn.BatchNorm1d(64),\n",
        "            nn.LeakyReLU(0.1),\n",
        "\n",
        "            nn.Linear(64, 1)\n",
        "        )\n",
        "\n",
        "    def forward(self, user, movie, cluster, features):\n",
        "        u = self.user_emb(user)\n",
        "        m = self.movie_emb(movie)\n",
        "        c = self.cluster_emb(cluster)\n",
        "        x = torch.cat([u, m, c, features], dim=1)\n",
        "        out = self.fc_layers(x).squeeze(1)\n",
        "        return out"
      ]
    },
    {
      "cell_type": "code",
      "execution_count": 25,
      "metadata": {
        "id": "dTWbTBpnlNjw"
      },
      "outputs": [],
      "source": [
        "# 11. Setup device, model, loss, optimizer, scheduler\n",
        "device = torch.device('cuda' if torch.cuda.is_available() else 'cpu')\n",
        "model = NCF(len(user2idx), len(movie2idx), len(cluster2idx), emb_size=64).to(device)\n",
        "criterion = nn.MSELoss()\n",
        "optimizer = optim.Adam(model.parameters(), lr=0.001, weight_decay=1e-5)\n",
        "scheduler = optim.lr_scheduler.ReduceLROnPlateau(optimizer, mode='min', factor=0.5, patience=3)"
      ]
    },
    {
      "cell_type": "code",
      "execution_count": 26,
      "metadata": {
        "id": "tmcMuc1UlO2N"
      },
      "outputs": [],
      "source": [
        "# 12. Training loop with early stopping\n",
        "def train_eval(model, train_loader, val_loader, epochs=50, patience=7):\n",
        "    best_loss = float('inf')\n",
        "    patience_count = 0\n",
        "    for epoch in range(epochs):\n",
        "        model.train()\n",
        "        train_loss = 0\n",
        "        for (user, movie, cluster, feats), ratings in train_loader:\n",
        "            user, movie, cluster, feats, ratings = user.to(device), movie.to(device), cluster.to(device), feats.to(device), ratings.to(device)\n",
        "            optimizer.zero_grad()\n",
        "            preds = model(user, movie, cluster, feats)\n",
        "            loss = criterion(preds, ratings)\n",
        "            loss.backward()\n",
        "            optimizer.step()\n",
        "            train_loss += loss.item() * ratings.size(0)\n",
        "        train_loss /= len(train_loader.dataset)\n",
        "\n",
        "        model.eval()\n",
        "        val_loss = 0\n",
        "        with torch.no_grad():\n",
        "            for (user, movie, cluster, feats), ratings in val_loader:\n",
        "                user, movie, cluster, feats, ratings = user.to(device), movie.to(device), cluster.to(device), feats.to(device), ratings.to(device)\n",
        "                preds = model(user, movie, cluster, feats)\n",
        "                loss = criterion(preds, ratings)\n",
        "                val_loss += loss.item() * ratings.size(0)\n",
        "        val_loss /= len(val_loader.dataset)\n",
        "\n",
        "        scheduler.step(val_loss)\n",
        "        print(f\"Epoch {epoch+1}: Train Loss={train_loss:.4f}, Val Loss={val_loss:.4f}\")\n",
        "\n",
        "        if val_loss < best_loss:\n",
        "            best_loss = val_loss\n",
        "            patience_count = 0\n",
        "            torch.save(model.state_dict(), 'best_ncf_model.pth')\n",
        "        else:\n",
        "            patience_count += 1\n",
        "            if patience_count >= patience:\n",
        "                print(\"Early stopping\")\n",
        "                break"
      ]
    },
    {
      "cell_type": "code",
      "execution_count": null,
      "metadata": {
        "id": "zPLY8YZUlRFS"
      },
      "outputs": [],
      "source": [
        "# 13. Train the model\n",
        "train_eval(model, train_loader, test_loader, epochs=50)\n",
        "\n",
        "def evaluate(model, loader):\n",
        "    model.eval()\n",
        "    total_mape = 0\n",
        "    total_smape = 0\n",
        "    total_mae = 0\n",
        "    total_rmse = 0\n",
        "    n = 0\n",
        "    eps = 1e-8\n",
        "\n",
        "    with torch.no_grad():\n",
        "        for (user, movie, cluster, feats), ratings in loader:\n",
        "            user, movie, cluster, feats, ratings = user.to(device), movie.to(device), cluster.to(device), feats.to(device), ratings.to(device)\n",
        "            preds = model(user, movie, cluster, feats)\n",
        "            preds = torch.clamp(preds, min=0.5, max=5.0)  # ratings scale clamp\n",
        "\n",
        "            n += ratings.size(0)\n",
        "            abs_diff = torch.abs(preds - ratings)\n",
        "            total_mae += torch.sum(abs_diff).item()\n",
        "            total_rmse += torch.sum((preds - ratings) ** 2).item()\n",
        "            total_mape += torch.sum(abs_diff / (ratings + eps)).item()\n",
        "            total_smape += torch.sum(2 * abs_diff / (torch.abs(preds) + torch.abs(ratings) + eps)).item()\n",
        "\n",
        "    print(f\"Test MAE: {total_mae / n:.4f}\")\n",
        "    print(f\"Test RMSE: {(total_rmse / n) ** 0.5:.4f}\")\n",
        "    print(f\"Test MAPE: {(total_mape / n)*100:.2f}%\")\n",
        "    print(f\"Test SMAPE: {(total_smape / n)*100:.2f}%\")\n"
      ]
    },
    {
      "cell_type": "code",
      "execution_count": null,
      "metadata": {
        "id": "O-Uz-8MElUci"
      },
      "outputs": [],
      "source": [
        "# 15. Load best model and evaluate\n",
        "model.load_state_dict(torch.load('best_ncf_model.pth'))\n",
        "evaluate(model, test_loader)\n"
      ]
    }
  ],
  "metadata": {
    "colab": {
      "provenance": []
    },
    "kernelspec": {
      "display_name": "bluez",
      "language": "python",
      "name": "python3"
    },
    "language_info": {
      "codemirror_mode": {
        "name": "ipython",
        "version": 3
      },
      "file_extension": ".py",
      "mimetype": "text/x-python",
      "name": "python",
      "nbconvert_exporter": "python",
      "pygments_lexer": "ipython3",
      "version": "3.12.9"
    }
  },
  "nbformat": 4,
  "nbformat_minor": 0
}
